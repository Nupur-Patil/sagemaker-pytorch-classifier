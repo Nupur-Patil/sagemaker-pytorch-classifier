{
 "cells": [
  {
   "cell_type": "markdown",
   "id": "5e32801b-f13e-41a9-82a0-2e7fa063ce2c",
   "metadata": {},
   "source": [
    "# Import packages"
   ]
  },
  {
   "cell_type": "code",
   "execution_count": 1,
   "id": "cc5d26d6-d993-4f0e-a9fa-9ebd96d88073",
   "metadata": {},
   "outputs": [],
   "source": [
    "import torch\n",
    "import torchvision\n",
    "import torchvision.transforms as transforms\n",
    "import matplotlib.pyplot as plt\n",
    "import numpy as np\n",
    "import os\n"
   ]
  },
  {
   "cell_type": "code",
   "execution_count": 2,
   "id": "e623a8ae-b8a0-42a6-b6c3-a919f019dc5c",
   "metadata": {},
   "outputs": [
    {
     "data": {
      "text/plain": [
       "'C:\\\\Users\\\\patil\\\\Documents\\\\GitHub\\\\sagemaker-pytorch-classifier\\\\notebooks'"
      ]
     },
     "execution_count": 2,
     "metadata": {},
     "output_type": "execute_result"
    }
   ],
   "source": [
    "os.getcwd()"
   ]
  },
  {
   "cell_type": "markdown",
   "id": "69778d80-4229-4871-97bb-85354b78b877",
   "metadata": {},
   "source": [
    "# Get data from the CIFAR10 dataset and load in testing an dtraining datasets"
   ]
  },
  {
   "cell_type": "code",
   "execution_count": 3,
   "id": "d2f9a74f-54b6-4f6e-9e31-7f163b0bbd21",
   "metadata": {},
   "outputs": [
    {
     "name": "stdout",
     "output_type": "stream",
     "text": [
      "Downloading https://www.cs.toronto.edu/~kriz/cifar-10-python.tar.gz to ../data\\cifar-10-python.tar.gz\n"
     ]
    },
    {
     "name": "stderr",
     "output_type": "stream",
     "text": [
      "100.0%\n"
     ]
    },
    {
     "name": "stdout",
     "output_type": "stream",
     "text": [
      "Extracting ../data\\cifar-10-python.tar.gz to ../data\n",
      "Files already downloaded and verified\n",
      "Data Downloaded and Loaders Created Successfully.\n"
     ]
    }
   ],
   "source": [
    "# Define simple transformations: convert to tensor and normalize\n",
    "# Normalization rescales pixel values to the range [-1, 1], which is standard for CNNs\n",
    "transform = transforms.Compose(\n",
    "    [transforms.ToTensor(),\n",
    "     transforms.Normalize((0.5, 0.5, 0.5), (0.5, 0.5, 0.5))])\n",
    "\n",
    "# 1. Download and Load Training Data\n",
    "# The 'root=./data' argument ensures the data downloads into your /data folder\n",
    "trainset = torchvision.datasets.CIFAR10(root='../data', train=True,\n",
    "                                        download=True, transform=transform)\n",
    "\n",
    "# Use DataLoader to handle batching and shuffling\n",
    "trainloader = torch.utils.data.DataLoader(trainset, batch_size=4,\n",
    "                                          shuffle=True, num_workers=2)\n",
    "\n",
    "# 2. Download and Load Test Data\n",
    "testset = torchvision.datasets.CIFAR10(root='../data', train=False,\n",
    "                                       download=True, transform=transform)\n",
    "\n",
    "testloader = torch.utils.data.DataLoader(testset, batch_size=4,\n",
    "                                         shuffle=False, num_workers=2)\n",
    "\n",
    "# The 10 class labels for CIFAR-10\n",
    "classes = ('plane', 'car', 'bird', 'cat', 'deer', 'dog', 'frog', 'horse', 'ship', 'truck')\n",
    "\n",
    "print(\"Data Downloaded and Loaders Created Successfully.\")"
   ]
  },
  {
   "cell_type": "markdown",
   "id": "a17a679c-3c24-4d7b-b573-570e92aa86e8",
   "metadata": {},
   "source": [
    "# Display sample images"
   ]
  },
  {
   "cell_type": "code",
   "execution_count": 8,
   "id": "e7fa5e71-3c4b-46f4-b84e-50270a16006b",
   "metadata": {},
   "outputs": [],
   "source": [
    "# Helper function to show an image\n",
    "def imshow(img):\n",
    "    # Un-normalize the image from [-1, 1] back to [0, 1] for display\n",
    "    img = img / 2 + 0.5\n",
    "    npimg = img.numpy()\n",
    "    # PyTorch uses C x H x W, Matplotlib expects H x W x C\n",
    "    plt.imshow(np.transpose(npimg, (1, 2, 0)))\n",
    "    plt.show()\n",
    "\n",
    "# Get some random training images\n",
    "dataiter = iter(trainloader)\n",
    "images, labels = next(dataiter)\n",
    "\n"
   ]
  },
  {
   "cell_type": "code",
   "execution_count": 9,
   "id": "f5dff42b-bf15-4525-9a3d-9e4bd22c80cb",
   "metadata": {},
   "outputs": [
    {
     "data": {
      "image/png": "[encoded data removed]",
      "text/plain": [
       "<Figure size 640x480 with 1 Axes>"
      ]
     },
     "metadata": {},
     "output_type": "display_data"
    },
    {
     "name": "stdout",
     "output_type": "stream",
     "text": [
      "deer plane ship ship\n"
     ]
    }
   ],
   "source": [
    "# Show images (uses torchvision.utils.make_grid)\n",
    "imshow(torchvision.utils.make_grid(images))\n",
    "\n",
    "# Print labels\n",
    "print(' '.join(f'{classes[labels[j]]}' for j in range(4)))"
   ]
  },
  {
   "cell_type": "code",
   "execution_count": null,
   "id": "d9094bf9-16a2-40b5-ba98-74555a0b6d10",
   "metadata": {},
   "outputs": [],
   "source": []
  }
 ],
 "metadata": {
  "kernelspec": {
   "display_name": "Python 3 (ipykernel)",
   "language": "python",
   "name": "python3"
  },
  "language_info": {
   "codemirror_mode": {
    "name": "ipython",
    "version": 3
   },
   "file_extension": ".py",
   "mimetype": "text/x-python",
   "name": "python",
   "nbconvert_exporter": "python",
   "pygments_lexer": "ipython3",
   "version": "3.8.5"
  }
 },
 "nbformat": 4,
 "nbformat_minor": 5
}
